{
 "cells": [
  {
   "cell_type": "code",
   "execution_count": 1,
   "id": "a422b897",
   "metadata": {},
   "outputs": [],
   "source": [
    "#Q.1 Display Grade"
   ]
  },
  {
   "cell_type": "code",
   "execution_count": 3,
   "id": "8ba95fd2",
   "metadata": {},
   "outputs": [
    {
     "name": "stdin",
     "output_type": "stream",
     "text": [
      "Enter your totaal Marks: 89\n"
     ]
    },
    {
     "name": "stdout",
     "output_type": "stream",
     "text": [
      "Your Grade is B\n"
     ]
    }
   ],
   "source": [
    "#Ans\n",
    "Mark = int(input('Enter your totaal Marks:'))\n",
    "if Mark > 90:\n",
    "    print('Your Grade is A')\n",
    "elif Mark > 80 and Mark <= 90:\n",
    "    print('Your Grade is B')\n",
    "elif Mark >= 60 and Mark <= 80:\n",
    "    print('Your Grade is C')\n",
    "else:\n",
    "    print('Your Grade is D')"
   ]
  },
  {
   "cell_type": "code",
   "execution_count": 2,
   "id": "b84063ab",
   "metadata": {},
   "outputs": [],
   "source": [
    "#Q.2 Cost of Bike and Tax"
   ]
  },
  {
   "cell_type": "code",
   "execution_count": 4,
   "id": "0d7fbd3b",
   "metadata": {},
   "outputs": [
    {
     "name": "stdin",
     "output_type": "stream",
     "text": [
      "Enter Cost of Your Bike 76999\n"
     ]
    },
    {
     "name": "stdout",
     "output_type": "stream",
     "text": [
      "Total Tax to be Paid:7699.900000000001\n"
     ]
    }
   ],
   "source": [
    "#Ans\n",
    "Cost_Bike = int(input('Enter Cost of Your Bike'))\n",
    "if Cost_Bike > 100000:\n",
    "    print(f'Total Tax to be Paid:{Cost_Bike * (15/100)}')\n",
    "elif Cost_Bike > 50000 and Cost_Bike <= 100000:\n",
    "    print(f'Total Tax to be Paid:{Cost_Bike * (10/100)}')\n",
    "else:\n",
    "    print(f'Total Tax to be Paid:{Cost_Bike * (5/100)}')\n",
    "    "
   ]
  },
  {
   "cell_type": "code",
   "execution_count": 14,
   "id": "0948c0b2",
   "metadata": {},
   "outputs": [],
   "source": [
    "#Q.3 Monument of the City"
   ]
  },
  {
   "cell_type": "code",
   "execution_count": 24,
   "id": "861ebdc0",
   "metadata": {},
   "outputs": [
    {
     "name": "stdout",
     "output_type": "stream",
     "text": [
      "Enter Name of the City:Jaipur\n",
      "Monumets is:Jal Mahal\n"
     ]
    }
   ],
   "source": [
    "#Ans \n",
    "Name_City = input('Enter Name of the City:')\n",
    "if Name_City == 'Delhi':\n",
    "    print('Monumets is:Red Fort')\n",
    "elif Name_City == 'Agra':\n",
    "    print('Monumets is:Taj Mahal')\n",
    "elif Name_City == 'Jaipur':\n",
    "    print('Monumets is:Jal Mahal')\n",
    "else:\n",
    "    print('Sorry,Your city is not on the list')"
   ]
  },
  {
   "cell_type": "code",
   "execution_count": 25,
   "id": "c8c7164d",
   "metadata": {},
   "outputs": [],
   "source": [
    "#Q.4 Number devided by 3 before is less than equal to 10"
   ]
  },
  {
   "cell_type": "code",
   "execution_count": 15,
   "id": "7c7e1bb8",
   "metadata": {},
   "outputs": [
    {
     "name": "stdout",
     "output_type": "stream",
     "text": [
      "Enter the number30\n",
      "No of times divisible by 3:6\n"
     ]
    }
   ],
   "source": [
    "#Ans\n",
    "n = int(input('Enter the number'))\n",
    "if n > 10:\n",
    "    print (f'No of times divisible by 3:{int((n-10)/3)}')\n"
   ]
  },
  {
   "cell_type": "code",
   "execution_count": 16,
   "id": "a9d6c830",
   "metadata": {},
   "outputs": [],
   "source": [
    "#Q.5 When use While Loop"
   ]
  },
  {
   "cell_type": "code",
   "execution_count": null,
   "id": "756549cb",
   "metadata": {},
   "outputs": [],
   "source": [
    "# Ans \n",
    "#While loop is used when we run block of codes and terminate it when certain condition is meet."
   ]
  },
  {
   "cell_type": "code",
   "execution_count": 19,
   "id": "c6b698cb",
   "metadata": {},
   "outputs": [
    {
     "name": "stdout",
     "output_type": "stream",
     "text": [
      "50\n",
      "60\n",
      "70\n",
      "80\n",
      "90\n",
      "Loop Completed\n"
     ]
    }
   ],
   "source": [
    "n = 50\n",
    "while n <= 90:\n",
    "    print(n)\n",
    "    n = n+10\n",
    "else:\n",
    "    print('Loop Completed')"
   ]
  },
  {
   "cell_type": "code",
   "execution_count": 40,
   "id": "18027058",
   "metadata": {},
   "outputs": [
    {
     "name": "stdout",
     "output_type": "stream",
     "text": [
      "Enter amount:112\n",
      "1000\n",
      "888\n",
      "776\n",
      "664\n",
      "552\n",
      "440\n",
      "328\n",
      "216\n",
      "104\n",
      "You do not have sufficent Amount\n"
     ]
    }
   ],
   "source": [
    "#EX - 2\n",
    "cash = int(input('Enter amount:'))\n",
    "Total_amount = 1000\n",
    "while Total_amount != 0 and Total_amount > 0:\n",
    "    print(Total_amount)\n",
    "    Total_amount = Total_amount - cash\n",
    "else:\n",
    "    print('You do not have sufficent Amount')"
   ]
  },
  {
   "cell_type": "code",
   "execution_count": 45,
   "id": "2ca177a8",
   "metadata": {},
   "outputs": [
    {
     "name": "stdout",
     "output_type": "stream",
     "text": [
      "Have a Nice Day\n",
      "Have a Nice Day\n",
      "Weekend\n"
     ]
    }
   ],
   "source": [
    "#Ex -3\n",
    "count = 0\n",
    "while count < 2:\n",
    "    if count == 3:\n",
    "        break\n",
    "    print('Have a Nice Day')\n",
    "    count = count + 1\n",
    "else:\n",
    "    print ('Weekend')"
   ]
  },
  {
   "cell_type": "code",
   "execution_count": 47,
   "id": "ff267084",
   "metadata": {},
   "outputs": [],
   "source": [
    "#Q. Reverse while loop"
   ]
  },
  {
   "cell_type": "code",
   "execution_count": 49,
   "id": "ed02cc97",
   "metadata": {},
   "outputs": [
    {
     "name": "stdout",
     "output_type": "stream",
     "text": [
      "10\n",
      "9\n",
      "8\n",
      "7\n",
      "6\n",
      "5\n",
      "4\n",
      "3\n",
      "2\n",
      "1\n"
     ]
    }
   ],
   "source": [
    "n = 10\n",
    "while n != 0:\n",
    "    print(n)\n",
    "    n = n-1"
   ]
  }
 ],
 "metadata": {
  "kernelspec": {
   "display_name": "Python 3 (ipykernel)",
   "language": "python",
   "name": "python3"
  },
  "language_info": {
   "codemirror_mode": {
    "name": "ipython",
    "version": 3
   },
   "file_extension": ".py",
   "mimetype": "text/x-python",
   "name": "python",
   "nbconvert_exporter": "python",
   "pygments_lexer": "ipython3",
   "version": "3.10.8"
  }
 },
 "nbformat": 4,
 "nbformat_minor": 5
}
